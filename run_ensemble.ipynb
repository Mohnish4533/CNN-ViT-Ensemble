{
 "cells": [
  {
   "cell_type": "code",
   "execution_count": 1,
   "metadata": {},
   "outputs": [
    {
     "name": "stderr",
     "output_type": "stream",
     "text": [
      "2025-05-10 21:22:47.222396: E external/local_xla/xla/stream_executor/cuda/cuda_fft.cc:477] Unable to register cuFFT factory: Attempting to register factory for plugin cuFFT when one has already been registered\n",
      "WARNING: All log messages before absl::InitializeLog() is called are written to STDERR\n",
      "E0000 00:00:1746892367.244336   37842 cuda_dnn.cc:8310] Unable to register cuDNN factory: Attempting to register factory for plugin cuDNN when one has already been registered\n",
      "E0000 00:00:1746892367.252206   37842 cuda_blas.cc:1418] Unable to register cuBLAS factory: Attempting to register factory for plugin cuBLAS when one has already been registered\n",
      "2025-05-10 21:22:47.277236: I tensorflow/core/platform/cpu_feature_guard.cc:210] This TensorFlow binary is optimized to use available CPU instructions in performance-critical operations.\n",
      "To enable the following instructions: AVX2 FMA, in other operations, rebuild TensorFlow with the appropriate compiler flags.\n",
      "/home/mr/workspace/MajorProject/.venv_ensemble/lib/python3.10/site-packages/tqdm/auto.py:21: TqdmWarning: IProgress not found. Please update jupyter and ipywidgets. See https://ipywidgets.readthedocs.io/en/stable/user_install.html\n",
      "  from .autonotebook import tqdm as notebook_tqdm\n"
     ]
    },
    {
     "name": "stdout",
     "output_type": "stream",
     "text": [
      "Using device: cuda\n"
     ]
    }
   ],
   "source": [
    "# Cell 1: Setup and imports\n",
    "import os\n",
    "os.environ[\"PYTORCH_CUDA_ALLOC_CONF\"] = \"expandable_segments:True\"\n",
    "\n",
    "import numpy as np\n",
    "import pickle\n",
    "from PIL import Image\n",
    "\n",
    "import tensorflow as tf\n",
    "from tensorflow.keras.models import load_model\n",
    "\n",
    "import torch\n",
    "from torchvision import transforms\n",
    "from transformers import ViTForImageClassification\n",
    "\n",
    "# Detect device\n",
    "device = torch.device(\"cuda\" if torch.cuda.is_available() else \"cpu\")\n",
    "print(\"Using device:\", device)\n"
   ]
  },
  {
   "cell_type": "code",
   "execution_count": 2,
   "metadata": {},
   "outputs": [],
   "source": [
    "# Cell 2: Same model‐path variables as your notebook\n",
    "k_saved_model_files = [\n",
    "    \"final models/FINAL/t2_breast_VGGAdam-epoch10.keras\",\n",
    "    \"final models/FINAL/t3_breast_IRNAdam_NoPreProcess-epoch12.keras\",\n",
    "    \"final models/FINAL/t3_breast_Xception_NoPreProcess-lrreduceP4-epoch02.keras\",\n",
    "    \"final models/FINAL/t3_breast_ResNet50_NoPreProcess-epoch15.keras\",\n",
    "]\n",
    "p_saved_model_files = [\n",
    "    \"final models/FINAL/t2_breast_vit_NoPreProcess_hdp0.2_adp0.2_lr1e-05-epoch4.pt\"\n",
    "]\n"
   ]
  },
  {
   "cell_type": "code",
   "execution_count": 3,
   "metadata": {},
   "outputs": [],
   "source": [
    "# Cell 3: Preprocessing helpers\n",
    "def preprocess_tf(image_path, target_size=(224,224)):\n",
    "    img = Image.open(image_path).convert(\"RGB\").resize(target_size)\n",
    "    arr = np.array(img) / 255.0\n",
    "    return arr\n",
    "\n",
    "def preprocess_torch(image_path, target_size=(224,224)):\n",
    "    tfm = transforms.Compose([\n",
    "        transforms.Resize(target_size),\n",
    "        transforms.ToTensor(),\n",
    "    ])\n",
    "    img = Image.open(image_path).convert(\"RGB\")\n",
    "    return tfm(img).unsqueeze(0)\n"
   ]
  },
  {
   "cell_type": "code",
   "execution_count": 4,
   "metadata": {},
   "outputs": [],
   "source": [
    "# Cell 4: Single‐image prediction functions (with prints)\n",
    "\n",
    "def predict_single_image_keras(model_files, image_path, output_file):\n",
    "    preds = []\n",
    "    for mf in model_files:\n",
    "        model = load_model(mf)\n",
    "        x = preprocess_tf(image_path)\n",
    "        p = model.predict(np.expand_dims(x, axis=0))[0]\n",
    "        print(f\"[Keras] Model '{os.path.basename(mf)}' prediction:\", p)\n",
    "        preds.append(p)\n",
    "    with open(output_file, \"wb\") as f:\n",
    "        pickle.dump({\"model_files\": model_files, \"predictions\": preds}, f)\n",
    "    print(f\"Saved Keras preds → {output_file}\")\n",
    "\n",
    "def predict_single_image_torch(model_file, image_path, output_file, device):\n",
    "    # init ViT architecture\n",
    "    model = ViTForImageClassification.from_pretrained(\n",
    "        \"google/vit-base-patch16-224-in21k\", num_labels=2\n",
    "    )\n",
    "    sd = torch.load(model_file, map_location=device)\n",
    "    model.load_state_dict(sd)\n",
    "    model.to(device).eval()\n",
    "\n",
    "    x = preprocess_torch(image_path).to(device)\n",
    "    with torch.no_grad():\n",
    "        out = model(x).logits.squeeze(0).cpu().numpy()\n",
    "        probs = np.exp(out) / np.sum(np.exp(out))\n",
    "    print(f\"[PyTorch] Model '{os.path.basename(model_file)}' prediction:\", probs)\n",
    "    with open(output_file, \"wb\") as f:\n",
    "        pickle.dump({\"model_file\": model_file, \"predictions\": probs}, f)\n",
    "    print(f\"Saved Torch preds → {output_file}\")\n"
   ]
  },
  {
   "cell_type": "code",
   "execution_count": 11,
   "metadata": {},
   "outputs": [],
   "source": [
    "# Cell 5: Ensemble voting utilities\n",
    "def weighted_vote(preds, weights):\n",
    "    return int(np.argmax(sum(p*w for p,w in zip(preds, weights))))\n",
    "\n",
    "def majority_vote(preds):\n",
    "    votes = [int(np.argmax(p)) for p in preds]\n",
    "    return int(np.argmax(np.bincount(votes)))\n",
    "\n",
    "def detailed_ensemble_from_files(keras_file, torch_file, keras_weights=None, torch_weight=None):\n",
    "    import os, pickle\n",
    "\n",
    "    # Load saved predictions\n",
    "    kinfo = pickle.load(open(keras_file, \"rb\"))\n",
    "    tinfo = pickle.load(open(torch_file, \"rb\"))\n",
    "\n",
    "    # Prepare lists for preds and weights\n",
    "    all_preds = kinfo[\"predictions\"]\n",
    "    weights = keras_weights if keras_weights else [1.0] * len(all_preds)\n",
    "    all_preds.append(tinfo[\"predictions\"])\n",
    "    weights.append(torch_weight if torch_weight else 1.0)\n",
    "\n",
    "    # Build a list of individual model outputs\n",
    "    individual_outputs = []\n",
    "    for mf, pred in zip(kinfo[\"model_files\"], kinfo[\"predictions\"]):\n",
    "        individual_outputs.append({\n",
    "            \"model\": os.path.basename(mf),\n",
    "            \"prediction\": pred\n",
    "        })\n",
    "    individual_outputs.append({\n",
    "        \"model\": os.path.basename(tinfo[\"model_file\"]),\n",
    "        \"prediction\": tinfo[\"predictions\"]\n",
    "    })\n",
    "\n",
    "    # Compute ensemble votes\n",
    "    weighted_pred = weighted_vote(all_preds, weights)\n",
    "    majority_pred = majority_vote(all_preds)\n",
    "\n",
    "    # Return everything\n",
    "    return {\n",
    "        \"individual\": individual_outputs,\n",
    "        \"weighted\": weighted_pred,\n",
    "        \"majority\": majority_pred\n",
    "    }\n"
   ]
  },
  {
   "cell_type": "code",
   "execution_count": 12,
   "metadata": {},
   "outputs": [],
   "source": [
    "# Cell 6: Run it on one image\n",
    "img_path_A = \"../breast_full_dataset/Malignant/20586934 (7).png\"\n",
    "\n",
    "img_path_B = \"../breast_full_dataset/Benign/20586908 (10).png\"\n",
    "\n"
   ]
  },
  {
   "cell_type": "code",
   "execution_count": 16,
   "metadata": {},
   "outputs": [
    {
     "name": "stderr",
     "output_type": "stream",
     "text": [
      "I0000 00:00:1746892293.684267   36520 gpu_device.cc:2022] Created device /job:localhost/replica:0/task:0/device:GPU:0 with 4778 MB memory:  -> device: 0, name: NVIDIA GeForce RTX 2060, pci bus id: 0000:01:00.0, compute capability: 7.5\n",
      "WARNING: All log messages before absl::InitializeLog() is called are written to STDERR\n",
      "I0000 00:00:1746892295.873549   37599 service.cc:148] XLA service 0x700c38003dc0 initialized for platform CUDA (this does not guarantee that XLA will be used). Devices:\n",
      "I0000 00:00:1746892295.873735   37599 service.cc:156]   StreamExecutor device (0): NVIDIA GeForce RTX 2060, Compute Capability 7.5\n",
      "2025-05-10 21:21:35.891704: I tensorflow/compiler/mlir/tensorflow/utils/dump_mlir_util.cc:268] disabling MLIR crash reproducer, set env var `MLIR_CRASH_REPRODUCER_DIRECTORY` to enable.\n",
      "I0000 00:00:1746892296.004336   37599 cuda_dnn.cc:529] Loaded cuDNN version 90501\n",
      "2025-05-10 21:21:37.311243: I external/local_xla/xla/service/gpu/autotuning/conv_algorithm_picker.cc:557] Omitted potentially buggy algorithm eng14{k25=0} for conv (f32[1,512,28,28]{3,2,1,0}, u8[0]{0}) custom-call(f32[1,256,28,28]{3,2,1,0}, f32[512,256,3,3]{3,2,1,0}, f32[512]{0}), window={size=3x3 pad=1_1x1_1}, dim_labels=bf01_oi01->bf01, custom_call_target=\"__cudnn$convBiasActivationForward\", backend_config={\"cudnn_conv_backend_config\":{\"activation_mode\":\"kRelu\",\"conv_result_scale\":1,\"leakyrelu_alpha\":0,\"side_input_scale\":0},\"force_earliest_schedule\":false,\"operation_queue_id\":\"0\",\"wait_on_operation_queues\":[]}\n",
      "2025-05-10 21:21:37.410967: I external/local_xla/xla/service/gpu/autotuning/conv_algorithm_picker.cc:557] Omitted potentially buggy algorithm eng14{k25=0} for conv (f32[1,512,28,28]{3,2,1,0}, u8[0]{0}) custom-call(f32[1,512,28,28]{3,2,1,0}, f32[512,512,3,3]{3,2,1,0}, f32[512]{0}), window={size=3x3 pad=1_1x1_1}, dim_labels=bf01_oi01->bf01, custom_call_target=\"__cudnn$convBiasActivationForward\", backend_config={\"cudnn_conv_backend_config\":{\"activation_mode\":\"kRelu\",\"conv_result_scale\":1,\"leakyrelu_alpha\":0,\"side_input_scale\":0},\"force_earliest_schedule\":false,\"operation_queue_id\":\"0\",\"wait_on_operation_queues\":[]}\n",
      "2025-05-10 21:21:37.522647: I external/local_xla/xla/service/gpu/autotuning/conv_algorithm_picker.cc:557] Omitted potentially buggy algorithm eng14{k25=0} for conv (f32[1,512,14,14]{3,2,1,0}, u8[0]{0}) custom-call(f32[1,512,14,14]{3,2,1,0}, f32[512,512,3,3]{3,2,1,0}, f32[512]{0}), window={size=3x3 pad=1_1x1_1}, dim_labels=bf01_oi01->bf01, custom_call_target=\"__cudnn$convBiasActivationForward\", backend_config={\"cudnn_conv_backend_config\":{\"activation_mode\":\"kRelu\",\"conv_result_scale\":1,\"leakyrelu_alpha\":0,\"side_input_scale\":0},\"force_earliest_schedule\":false,\"operation_queue_id\":\"0\",\"wait_on_operation_queues\":[]}\n"
     ]
    },
    {
     "name": "stdout",
     "output_type": "stream",
     "text": [
      "\u001b[1m1/1\u001b[0m \u001b[32m━━━━━━━━━━━━━━━━━━━━\u001b[0m\u001b[37m\u001b[0m \u001b[1m3s\u001b[0m 3s/step\n"
     ]
    },
    {
     "name": "stderr",
     "output_type": "stream",
     "text": [
      "I0000 00:00:1746892298.182135   37599 device_compiler.h:188] Compiled cluster using XLA!  This line is logged at most once for the lifetime of the process.\n"
     ]
    },
    {
     "name": "stdout",
     "output_type": "stream",
     "text": [
      "[Keras] Model 't2_breast_VGGAdam-epoch10.keras' prediction: [0.9033662  0.09987863]\n",
      "\u001b[1m1/1\u001b[0m \u001b[32m━━━━━━━━━━━━━━━━━━━━\u001b[0m\u001b[37m\u001b[0m \u001b[1m12s\u001b[0m 12s/step\n",
      "[Keras] Model 't3_breast_IRNAdam_NoPreProcess-epoch12.keras' prediction: [3.1579079e-04 9.9968195e-01]\n",
      "\u001b[1m1/1\u001b[0m \u001b[32m━━━━━━━━━━━━━━━━━━━━\u001b[0m\u001b[37m\u001b[0m \u001b[1m3s\u001b[0m 3s/step\n",
      "[Keras] Model 't3_breast_Xception_NoPreProcess-lrreduceP4-epoch02.keras' prediction: [0.44705042 0.4073077 ]\n"
     ]
    },
    {
     "name": "stderr",
     "output_type": "stream",
     "text": [
      "2025-05-10 21:22:17.001462: I external/local_xla/xla/service/gpu/autotuning/conv_algorithm_picker.cc:557] Omitted potentially buggy algorithm eng14{k25=0} for conv (f32[1,128,28,28]{3,2,1,0}, u8[0]{0}) custom-call(f32[1,128,28,28]{3,2,1,0}, f32[128,128,3,3]{3,2,1,0}, f32[128]{0}), window={size=3x3 pad=1_1x1_1}, dim_labels=bf01_oi01->bf01, custom_call_target=\"__cudnn$convBiasActivationForward\", backend_config={\"cudnn_conv_backend_config\":{\"activation_mode\":\"kNone\",\"conv_result_scale\":1,\"leakyrelu_alpha\":0,\"side_input_scale\":0},\"force_earliest_schedule\":false,\"operation_queue_id\":\"0\",\"wait_on_operation_queues\":[]}\n",
      "2025-05-10 21:22:17.157792: I external/local_xla/xla/service/gpu/autotuning/conv_algorithm_picker.cc:557] Omitted potentially buggy algorithm eng14{k25=0} for conv (f32[1,256,14,14]{3,2,1,0}, u8[0]{0}) custom-call(f32[1,256,14,14]{3,2,1,0}, f32[256,256,3,3]{3,2,1,0}, f32[256]{0}), window={size=3x3 pad=1_1x1_1}, dim_labels=bf01_oi01->bf01, custom_call_target=\"__cudnn$convBiasActivationForward\", backend_config={\"cudnn_conv_backend_config\":{\"activation_mode\":\"kNone\",\"conv_result_scale\":1,\"leakyrelu_alpha\":0,\"side_input_scale\":0},\"force_earliest_schedule\":false,\"operation_queue_id\":\"0\",\"wait_on_operation_queues\":[]}\n",
      "2025-05-10 21:22:17.304328: I external/local_xla/xla/service/gpu/autotuning/conv_algorithm_picker.cc:557] Omitted potentially buggy algorithm eng14{k25=0} for conv (f32[1,512,7,7]{3,2,1,0}, u8[0]{0}) custom-call(f32[1,512,7,7]{3,2,1,0}, f32[512,512,3,3]{3,2,1,0}, f32[512]{0}), window={size=3x3 pad=1_1x1_1}, dim_labels=bf01_oi01->bf01, custom_call_target=\"__cudnn$convBiasActivationForward\", backend_config={\"cudnn_conv_backend_config\":{\"activation_mode\":\"kNone\",\"conv_result_scale\":1,\"leakyrelu_alpha\":0,\"side_input_scale\":0},\"force_earliest_schedule\":false,\"operation_queue_id\":\"0\",\"wait_on_operation_queues\":[]}\n"
     ]
    },
    {
     "name": "stdout",
     "output_type": "stream",
     "text": [
      "\u001b[1m1/1\u001b[0m \u001b[32m━━━━━━━━━━━━━━━━━━━━\u001b[0m\u001b[37m\u001b[0m \u001b[1m5s\u001b[0m 5s/step\n",
      "[Keras] Model 't3_breast_ResNet50_NoPreProcess-epoch15.keras' prediction: [0.00630238 0.9939294 ]\n",
      "Saved Keras preds → keras_preds.pkl\n"
     ]
    }
   ],
   "source": [
    "# 1) Generate and save individual preds\n",
    "predict_single_image_keras(k_saved_model_files, img_path_A, \"keras_preds.pkl\")"
   ]
  },
  {
   "cell_type": "code",
   "execution_count": 7,
   "metadata": {},
   "outputs": [
    {
     "name": "stderr",
     "output_type": "stream",
     "text": [
      "Some weights of ViTForImageClassification were not initialized from the model checkpoint at google/vit-base-patch16-224-in21k and are newly initialized: ['classifier.bias', 'classifier.weight']\n",
      "You should probably TRAIN this model on a down-stream task to be able to use it for predictions and inference.\n"
     ]
    },
    {
     "name": "stdout",
     "output_type": "stream",
     "text": [
      "[PyTorch] Model 't2_breast_vit_NoPreProcess_hdp0.2_adp0.2_lr1e-05-epoch4.pt' prediction: [0.01692918 0.9830708 ]\n",
      "Saved Torch preds → torch_preds.pkl\n"
     ]
    }
   ],
   "source": [
    "predict_single_image_torch(p_saved_model_files[0], img_path_A, \"torch_preds.pkl\", device)"
   ]
  },
  {
   "cell_type": "code",
   "execution_count": 10,
   "metadata": {},
   "outputs": [
    {
     "name": "stdout",
     "output_type": "stream",
     "text": [
      "Individual model outputs:\n",
      "  • t2_breast_VGGAdam-epoch10.keras → [0.9033662  0.09987863]\n",
      "  • t3_breast_IRNAdam_NoPreProcess-epoch12.keras → [3.1579079e-04 9.9968195e-01]\n",
      "  • t3_breast_Xception_NoPreProcess-lrreduceP4-epoch02.keras → [0.44705042 0.4073077 ]\n",
      "  • t3_breast_ResNet50_NoPreProcess-epoch15.keras → [0.00630238 0.9939294 ]\n",
      "  • t2_breast_vit_NoPreProcess_hdp0.2_adp0.2_lr1e-05-epoch4.pt → [0.01692918 0.9830708 ]\n",
      "\n",
      "Ensemble results:\n",
      "  • Weighted vote → 1\n",
      "  • Majority vote → 1\n"
     ]
    }
   ],
   "source": [
    "results = detailed_ensemble_from_files(\"keras_preds.pkl\", \"torch_preds.pkl\", keras_acc, torch_acc)\n",
    "print(\"Individual model outputs:\")\n",
    "for entry in results[\"individual\"]:\n",
    "    model_name = entry[\"model\"]\n",
    "    pred       = entry[\"prediction\"]\n",
    "    print(f\"  • {model_name} → {pred}\")\n",
    "\n",
    "# Print the ensemble decisions\n",
    "print(\"\\nEnsemble results:\")\n",
    "print(\"  • Weighted vote →\", results[\"weighted\"])\n",
    "print(\"  • Majority vote →\", results[\"majority\"])"
   ]
  }
 ],
 "metadata": {
  "kernelspec": {
   "display_name": "venv_ensemble",
   "language": "python",
   "name": "venv_ensemble"
  },
  "language_info": {
   "codemirror_mode": {
    "name": "ipython",
    "version": 3
   },
   "file_extension": ".py",
   "mimetype": "text/x-python",
   "name": "python",
   "nbconvert_exporter": "python",
   "pygments_lexer": "ipython3",
   "version": "3.10.12"
  }
 },
 "nbformat": 4,
 "nbformat_minor": 2
}
