{
 "cells": [
  {
   "cell_type": "markdown",
   "metadata": {},
   "source": [
    "# 1. Import required dependencies"
   ]
  },
  {
   "cell_type": "code",
   "execution_count": 1,
   "metadata": {},
   "outputs": [],
   "source": [
    "import os\n",
    "os.environ[\"PYTORCH_CUDA_ALLOC_CONF\"] = \"expandable_segments:True\""
   ]
  },
  {
   "cell_type": "code",
   "execution_count": 2,
   "metadata": {},
   "outputs": [
    {
     "name": "stderr",
     "output_type": "stream",
     "text": [
      "2025-02-25 18:12:10.960972: E external/local_xla/xla/stream_executor/cuda/cuda_fft.cc:477] Unable to register cuFFT factory: Attempting to register factory for plugin cuFFT when one has already been registered\n",
      "WARNING: All log messages before absl::InitializeLog() is called are written to STDERR\n",
      "E0000 00:00:1740487330.978253   68481 cuda_dnn.cc:8310] Unable to register cuDNN factory: Attempting to register factory for plugin cuDNN when one has already been registered\n",
      "E0000 00:00:1740487330.983699   68481 cuda_blas.cc:1418] Unable to register cuBLAS factory: Attempting to register factory for plugin cuBLAS when one has already been registered\n",
      "2025-02-25 18:12:11.002548: I tensorflow/core/platform/cpu_feature_guard.cc:210] This TensorFlow binary is optimized to use available CPU instructions in performance-critical operations.\n",
      "To enable the following instructions: AVX2 FMA, in other operations, rebuild TensorFlow with the appropriate compiler flags.\n",
      "/home/mr/workspace/MajorProject/.venv_ensemble/lib/python3.10/site-packages/tqdm/auto.py:21: TqdmWarning: IProgress not found. Please update jupyter and ipywidgets. See https://ipywidgets.readthedocs.io/en/stable/user_install.html\n",
      "  from .autonotebook import tqdm as notebook_tqdm\n"
     ]
    }
   ],
   "source": [
    "import numpy as np\n",
    "import pandas as pd\n",
    "import matplotlib.pyplot as plt\n",
    "import seaborn as sns\n",
    "import cv2\n",
    "import tensorflow as tf\n",
    "import torch\n",
    "import torchvision.datasets as datasets\n",
    "\n",
    "from sklearn.model_selection import train_test_split\n",
    "from sklearn.utils import class_weight  # Import class_weight\n",
    "from sklearn.metrics import classification_report, confusion_matrix\n",
    "\n",
    "from tensorflow.keras.preprocessing.image import ImageDataGenerator\n",
    "from tensorflow.keras.layers import Flatten, Dense, Input, Dropout, BatchNormalization\n",
    "from tensorflow.keras.models import Model\n",
    "from tensorflow.keras.optimizers import Adam\n",
    "\n",
    "from keras.models import load_model\n",
    "\n",
    "from torch.utils.data import DataLoader, TensorDataset\n",
    "\n",
    "from PIL import Image\n",
    "\n",
    "from transformers import ViTForImageClassification, ViTConfig\n",
    "\n",
    "import pickle\n",
    "\n",
    "import itertools\n"
   ]
  },
  {
   "cell_type": "markdown",
   "metadata": {},
   "source": [
    "# 2. Check GPU availability"
   ]
  },
  {
   "cell_type": "code",
   "execution_count": 3,
   "metadata": {},
   "outputs": [
    {
     "name": "stdout",
     "output_type": "stream",
     "text": [
      "[PhysicalDevice(name='/physical_device:GPU:0', device_type='GPU')]\n",
      "Using device: cuda\n"
     ]
    }
   ],
   "source": [
    "print(tf.config.list_physical_devices('GPU'))\n",
    "device = torch.device(\"cuda\" if torch.cuda.is_available() else \"cpu\")\n",
    "print(\"Using device:\", device)"
   ]
  },
  {
   "cell_type": "code",
   "execution_count": 4,
   "metadata": {},
   "outputs": [
    {
     "name": "stdout",
     "output_type": "stream",
     "text": [
      "cuda\n"
     ]
    }
   ],
   "source": [
    "available = torch.cuda.is_available()\n",
    "if available:\n",
    "    device = \"cuda\"\n",
    "else:\n",
    "    device = \"cpu\"\n",
    "\n",
    "print(device)"
   ]
  },
  {
   "cell_type": "markdown",
   "metadata": {},
   "source": [
    "# 3. Load data"
   ]
  },
  {
   "cell_type": "code",
   "execution_count": 5,
   "metadata": {},
   "outputs": [],
   "source": [
    "def load_data(path):\n",
    "    import os\n",
    "    import numpy as np\n",
    "    from PIL import Image\n",
    "\n",
    "    # Directory containing dataset\n",
    "    data_dir = path  # Update this with your actual path\n",
    "\n",
    "    # Parameters\n",
    "    target_size = (224,224)  # Resize images to this size\n",
    "    classes = sorted(os.listdir(data_dir))  # Automatically detect classes from subdirectories\n",
    "\n",
    "    # Initialize lists to store images and labels\n",
    "    images = []\n",
    "    labels = []\n",
    "\n",
    "    # Load all images and their labels\n",
    "    for class_index, class_name in enumerate(classes):\n",
    "        class_path = os.path.join(data_dir, class_name)\n",
    "        for img_name in os.listdir(class_path):\n",
    "            img_path = os.path.join(class_path, img_name)\n",
    "            try:\n",
    "                # Open image, resize it, and convert to numpy array\n",
    "                img = Image.open(img_path).resize(target_size).convert('RGB')\n",
    "                plt.close()\n",
    "                images.append(np.array(img))  # Add image to list\n",
    "                labels.append(class_index)   # Assign numeric label based on class\n",
    "            except Exception as e:\n",
    "                print(f\"Error loading image {img_path}: {e}\")\n",
    "\n",
    "    # Convert lists to numpy arrays\n",
    "    images = np.array(images)  # Shape: (num_samples, height, width, channels)\n",
    "    labels = np.array(labels)  # Shape: (num_samples,)\n",
    "\n",
    "    # Print dataset summary\n",
    "    print(\"Total images loaded:\", images.shape[0])\n",
    "    print(\"Image shape:\", images.shape[1:])\n",
    "    print(\"Labels shape:\", labels.shape)\n",
    "\n",
    "    # One-hot encode labels (optional)\n",
    "    from tensorflow.keras.utils import to_categorical\n",
    "    labels = to_categorical(labels, num_classes=len(classes))\n",
    "\n",
    "    print(\"One-hot encoded labels shape:\", labels.shape)\n",
    "\n",
    "    return images, labels\n"
   ]
  },
  {
   "cell_type": "code",
   "execution_count": 6,
   "metadata": {},
   "outputs": [],
   "source": [
    "def laod_data_imggen(BatchSize, path, TargetSize= (224, 224)):\n",
    "    image_gen = ImageDataGenerator(validation_split=0.15)\n",
    "    data_dir = path\n",
    "    batch_size = BatchSize\n",
    "    target_size = TargetSize\n",
    "\n",
    "    train_image_gen = image_gen.flow_from_directory(data_dir, \n",
    "                                            target_size=target_size,\n",
    "                                            color_mode='rgb',\n",
    "                                            batch_size=batch_size,\n",
    "                                            class_mode='categorical',\n",
    "                                            subset=\"training\")\n",
    "\n",
    "    test_image_gen = image_gen.flow_from_directory(data_dir, \n",
    "                                            target_size=target_size, \n",
    "                                            color_mode='rgb',\n",
    "                                            batch_size=batch_size,\n",
    "                                            class_mode='categorical',\n",
    "                                            shuffle=False,\n",
    "                                            subset=\"validation\")\n",
    "    \n",
    "    X_train, y_train = next(train_image_gen)\n",
    "    X_test, y_test = next(test_image_gen)\n",
    "\n",
    "    return (X_train, y_train), (X_test, y_test), (train_image_gen, test_image_gen)"
   ]
  },
  {
   "cell_type": "code",
   "execution_count": 7,
   "metadata": {},
   "outputs": [],
   "source": [
    "def load_data_torch(path):\n",
    "    full_dataset = datasets.ImageFolder(root=path, transform=None)\n",
    "    w0 = len(full_dataset) / (2 * 2520)\n",
    "    w1 = len(full_dataset) / (2 * 5112)\n",
    "\n",
    "    class_weights = torch.tensor([w0, w1], dtype=torch.float).to(device)\n",
    "\n",
    "    return full_dataset, class_weights"
   ]
  },
  {
   "cell_type": "markdown",
   "metadata": {},
   "source": [
    "# 4. Additional functions"
   ]
  },
  {
   "cell_type": "code",
   "execution_count": 8,
   "metadata": {},
   "outputs": [],
   "source": [
    "def load(model_file, model_name = \"google/vit-base-patch16-224-in21k\"):\n",
    "    if model_file.endswith('.keras'):\n",
    "        model_type = \"k\"\n",
    "        model = load_model(model_file)\n",
    "    elif model_file.endswith('.pt'):\n",
    "        model_type = \"p\"\n",
    "        model = ViTForImageClassification.from_pretrained(model_name, num_labels=2)\n",
    "        model.load_state_dict(torch.load(model_file))\n",
    "        model.to(device)\n",
    "        model.eval()\n",
    "    else:\n",
    "        raise ValueError(\"Unsupported model format: \" + model_file)\n",
    "    \n",
    "    return model, model_type\n"
   ]
  },
  {
   "cell_type": "code",
   "execution_count": 9,
   "metadata": {},
   "outputs": [],
   "source": [
    "def predict(model, mtype, x_test, batch_size):\n",
    "    if mtype == \"k\":\n",
    "        test_dataset = tf.data.Dataset.from_tensor_slices(x_test).batch(batch_size)\n",
    "        predictions = model.predict(test_dataset, verbose=1)\n",
    "        test_classes = np.argmax(predictions, axis=1)\n",
    "\n",
    "    elif mtype == \"p\":\n",
    "        x_test_tensor = torch.tensor(x_test, dtype=torch.float32).permute(0, 3, 1, 2)\n",
    "        test_dataset = TensorDataset(x_test_tensor)\n",
    "        test_loader = DataLoader(test_dataset, batch_size=batch_size, shuffle=False)\n",
    "\n",
    "        model.eval()\n",
    "        test_classes = []\n",
    "\n",
    "        with torch.no_grad():\n",
    "            for batch in test_loader:\n",
    "                images = batch[0].to(device)\n",
    "                outputs = model(images)\n",
    "                _, preds = torch.max(outputs.logits, dim=1)\n",
    "                test_classes.extend(preds.cpu().numpy())\n",
    "\n",
    "    return test_classes"
   ]
  },
  {
   "cell_type": "code",
   "execution_count": 10,
   "metadata": {},
   "outputs": [],
   "source": [
    "def evaluate(model, mtype, x_test, y_test, batch_size, torch_class_weight= None):\n",
    "    if mtype == \"k\":\n",
    "        test_dataset = tf.data.Dataset.from_tensor_slices((x_test, y_test)).batch(batch_size)\n",
    "        scores = model.evaluate(test_dataset, verbose=1)\n",
    "        print('loss:', scores[0])\n",
    "        print('accuracy:', scores[1])\n",
    "\n",
    "        return scores\n",
    "    \n",
    "    elif mtype == \"p\":\n",
    "        criterion = torch.nn.CrossEntropyLoss(weight=torch_class_weight)\n",
    "\n",
    "        x_test_tensor = torch.tensor(x_test, dtype=torch.float32).permute(0, 3, 1, 2).to(device)  # Convert to tensor\n",
    "        #y_test_tensor = torch.tensor(y_test, dtype=torch.float32).to(device)  # Convert labels to tensor\n",
    "        y_test_tensor = torch.tensor(np.argmax(y_test, axis=1), dtype=torch.long).to(device)\n",
    "\n",
    "\n",
    "        test_dataset = TensorDataset(x_test_tensor, y_test_tensor)\n",
    "        test_loader = DataLoader(test_dataset, batch_size=batch_size, shuffle=False)\n",
    "\n",
    "\n",
    "        model.eval()\n",
    "        total_loss = 0\n",
    "        correct = 0\n",
    "        total = 0\n",
    "\n",
    "        with torch.no_grad():\n",
    "            for images, labels in test_loader:\n",
    "                images = images.to(device)\n",
    "                labels = labels.to(device)\n",
    "\n",
    "                outputs = model(images)\n",
    "                logits = outputs.logits\n",
    "                loss = criterion(logits, labels)\n",
    "                total_loss += loss.item() * images.size(0)\n",
    "\n",
    "                _, preds = torch.max(logits, dim=1)\n",
    "                correct += (preds == labels).sum().item()\n",
    "                total += images.size(0)\n",
    "\n",
    "        average_loss = total_loss / total\n",
    "        accuracy = correct / total\n",
    "        print('Loss:', average_loss)\n",
    "        print('Accuracy:', accuracy)\n",
    "        \n",
    "        return (average_loss, accuracy)\n"
   ]
  },
  {
   "cell_type": "code",
   "execution_count": 11,
   "metadata": {},
   "outputs": [],
   "source": [
    "def mostcommon(array):\n",
    "    '''return the most common value of an array'''\n",
    "    return np.bincount(array).argmax()"
   ]
  },
  {
   "cell_type": "code",
   "execution_count": 12,
   "metadata": {},
   "outputs": [],
   "source": [
    "def weighted_vote(predictions, model_type, accuracy_records, num_classes=2):\n",
    "    ''' return final_predict based on weighted_vote of all the learners in models\n",
    "        weight is the the accuracy of each learner\n",
    "    '''\n",
    "    n_learners = predictions.shape[1]\n",
    "    n_tests = predictions.shape[0]\n",
    "    # final_predict = np.zeros((n_tests, 1), dtype=\"int64\")\n",
    "    probs = np.zeros((n_tests, num_classes))\n",
    "    for i in range(n_learners):\n",
    "        accuracy = accuracy_records[i]\n",
    "        prediction = predictions[:, i]\n",
    "        one_hot_pred = np.eye(num_classes)[prediction]\n",
    "\n",
    "        if model_type[i] == \"k\":\n",
    "            probs += accuracy * one_hot_pred\n",
    "        elif model_type[i] == \"p\":\n",
    "            probs += accuracy * one_hot_pred\n",
    "        else:\n",
    "            print(\"ERROR\")\n",
    "            probs = 0\n",
    "    return np.argmax(probs, axis=1)\n"
   ]
  },
  {
   "cell_type": "code",
   "execution_count": 13,
   "metadata": {},
   "outputs": [],
   "source": [
    "\n",
    "def majority_vote(predictions, model_type, accuracy_records):\n",
    "    ''' return final_predict based on majority vote of all the learners in models\n",
    "    '''\n",
    "    n_tests = predictions.shape[0]\n",
    "\n",
    "    final_predict = np.zeros((n_tests, 1), dtype=\"int64\")\n",
    "\n",
    "    for i in range(n_tests):\n",
    "        final_predict[i] = mostcommon(predictions[i, :])\n",
    "\n",
    "    return final_predict.flatten()"
   ]
  },
  {
   "cell_type": "code",
   "execution_count": 14,
   "metadata": {},
   "outputs": [],
   "source": [
    "def save_details(filename, models, model_type, train_accuracy_records, test_accuracy_records, preds):\n",
    "    \n",
    "    data_to_save = {\n",
    "        \"models\": models,\n",
    "        \"model_type\": model_type,\n",
    "        \"train_accuracy_records\": train_accuracy_records,\n",
    "        \"test_accuracy_records\": test_accuracy_records,\n",
    "        \"preds\": preds\n",
    "    }\n",
    "\n",
    "    with open(filename, \"wb\") as file:\n",
    "        pickle.dump(data_to_save, file)\n",
    "\n",
    "    print(f\"Data saved to {filename}\")"
   ]
  },
  {
   "cell_type": "code",
   "execution_count": 15,
   "metadata": {},
   "outputs": [],
   "source": [
    "def retrieve_details(filename):\n",
    "    with open(filename, \"rb\") as file:\n",
    "        loaded_data = pickle.load(file)\n",
    "\n",
    "    # Retrieve the data from the dictionary\n",
    "    models = loaded_data[\"models\"]\n",
    "    model_type = loaded_data[\"model_type\"]\n",
    "    train_accuracy_records = loaded_data[\"train_accuracy_records\"]\n",
    "    test_accuracy_records = loaded_data[\"test_accuracy_records\"]\n",
    "    preds = loaded_data[\"preds\"]\n",
    "\n",
    "    print(\"Data loaded successfully\")\n",
    "    return models, model_type, train_accuracy_records, test_accuracy_records, preds"
   ]
  },
  {
   "cell_type": "markdown",
   "metadata": {},
   "source": [
    "# Ensemble model"
   ]
  },
  {
   "cell_type": "code",
   "execution_count": 16,
   "metadata": {},
   "outputs": [],
   "source": [
    "def ensemble_data_loader(batch_size, tf=True):\n",
    "    images , labels = load_data('../breast_full_dataset')\n",
    "    if tf:\n",
    "        _, _, (train_img_gen, test_img_gen) = laod_data_imggen(batch_size, '../breast_full_dataset') ##\n",
    "    else:\n",
    "        (train_img_gen, test_img_gen) = (None, None)\n",
    "\n",
    "    #x_train, x_test, y_train, y_test = train_test_split(images, labels, train_size= 0.8, random_state= 42)\n",
    "    x_train = images\n",
    "    x_test = images\n",
    "    y_train = labels\n",
    "    y_test = labels\n",
    "    print(f\"\\n\\n X train size : {x_train.shape} \\n X test size : {x_test.shape} \\n Y train size : {y_train.shape} \\n Y test size : {y_test.shape}\")\n",
    "\n",
    "    y_test_old = np.argmax(y_test, axis=1)\n",
    "\n",
    "    return images, labels, train_img_gen, test_img_gen, x_train, x_test, y_train, y_test, y_test_old"
   ]
  },
  {
   "cell_type": "code",
   "execution_count": 17,
   "metadata": {},
   "outputs": [],
   "source": [
    "def ensemble_tf_models(n_learners, saved_model_files, x_train, x_test, y_train, y_test, batch_size, filename):\n",
    "    models = []\n",
    "    model_type = []\n",
    "    n_trains = x_train.shape[0]\n",
    "    n_tests = x_test.shape[0]\n",
    "    print(f\"\\n\\n n train value : {n_trains} \\n n test value : {n_tests}\")\n",
    "    train_accuracy_records = []\n",
    "    test_accuracy_records = []\n",
    "    preds = []\n",
    "\n",
    "    for i in range(n_learners):\n",
    "        model_file = saved_model_files[i]\n",
    "        model, mtype = load(model_file)\n",
    "        model_type.append(mtype)\n",
    "        print(f\"model {i} : {model_file}\")\n",
    "        scores = evaluate(model, mtype, x_test, y_test, batch_size)\n",
    "        test_accuracy_records.append(scores[1])\n",
    "        scores = evaluate(model, mtype, x_train, y_train, batch_size)\n",
    "        train_accuracy_records.append(scores[1])\n",
    "        models.append(model) # save base learner\n",
    "        y_pred = predict(model, mtype, x_test, batch_size)\n",
    "        preds.append(y_pred)\n",
    "    \n",
    "    #filename = \"./test4/tf_ensemble_data.pkl\"                       ############################################\n",
    "    save_details(filename, models, model_type, train_accuracy_records, test_accuracy_records, preds)\n",
    "\n",
    "    return models, model_type, train_accuracy_records, test_accuracy_records, preds"
   ]
  },
  {
   "cell_type": "code",
   "execution_count": 18,
   "metadata": {},
   "outputs": [],
   "source": [
    "def ensemble_torch_models(n_learners, saved_model_files, x_train, x_test, y_train, y_test, batch_size, filename):\n",
    "    models = []\n",
    "    model_type = []\n",
    "    n_trains = x_train.shape[0]\n",
    "    n_tests = x_test.shape[0]\n",
    "    print(f\"\\n\\n n train value : {n_trains} \\n n test value : {n_tests}\")\n",
    "    train_accuracy_records = []\n",
    "    test_accuracy_records = []\n",
    "    preds = []\n",
    "\n",
    "    for i in range(n_learners):\n",
    "        model_file = saved_model_files[i]\n",
    "        model, mtype = load(model_file)\n",
    "        model_type.append(mtype)\n",
    "        print(f\"model {i} : {model_file}\")\n",
    "        scores = evaluate(model, mtype, x_test, y_test, batch_size)\n",
    "        test_accuracy_records.append(scores[1])\n",
    "        scores = evaluate(model, mtype, x_train, y_train, batch_size)\n",
    "        train_accuracy_records.append(scores[1])\n",
    "        models.append(model) # save base learner\n",
    "        y_pred = predict(model, mtype, x_test, batch_size)\n",
    "        preds.append(y_pred)\n",
    "\n",
    "    #filename = \"./test4/pt_ensemble_data.pkl\"                       ############################################\n",
    "    save_details(filename, models, model_type, train_accuracy_records, test_accuracy_records, preds)\n",
    "\n",
    "    return models, model_type, train_accuracy_records, test_accuracy_records, preds"
   ]
  },
  {
   "cell_type": "code",
   "execution_count": 19,
   "metadata": {},
   "outputs": [],
   "source": [
    "def ensemble(n_learners, saved_model_files, model_type, predictions, votefuns, x_train, x_test, y_test_old, train_accuracy_records, test_accuracy_records, filename, file_prefix= \"\"):\n",
    "    n_trains = x_train.shape[0]\n",
    "    n_tests = x_test.shape[0]\n",
    "\n",
    "    filename = file_prefix + filename\n",
    "    print(filename)\n",
    "    out_file = open(filename, \"a\")\n",
    "    out_file.write(\"--------------------------------------------\\n\")\n",
    "    for votefun in votefuns:\n",
    "        final_predict = votefun(predictions, model_type, train_accuracy_records)\n",
    "        final_predict = final_predict.reshape(-1)\n",
    "        print(final_predict.shape)\n",
    "\n",
    "        errors = np.count_nonzero(final_predict.reshape((n_tests, )) - y_test_old.reshape((n_tests,)))\n",
    "        out_file.write(\"votefun is\\n\")\n",
    "        out_file.write(str(votefun) + \"\\n\")\n",
    "        out_file.write('ensemble test accuracy: %0.6f \\n' % ((n_tests - errors)/float(n_tests)))\n",
    "        print(f\"votefun is {votefun}\")\n",
    "        print('ensemble test accuracy: %0.6f' % ((n_tests - errors)/float(n_tests)))\n",
    "        for i in range(n_learners):\n",
    "            print(\"learner %d (model_file = %s): %0.6f\" % (i, saved_model_files[i], test_accuracy_records[i]))\n",
    "            out_file.write(\"learner %d (model_file = %s): %0.6f\\n\" % (i, saved_model_files[i], test_accuracy_records[i]))\n",
    "    out_file.close()\n",
    "\n",
    "    return final_predict"
   ]
  },
  {
   "cell_type": "markdown",
   "metadata": {},
   "source": [
    "# Testing"
   ]
  },
  {
   "cell_type": "code",
   "execution_count": 20,
   "metadata": {},
   "outputs": [],
   "source": [
    "batch_size = 8\n",
    "# k_saved_model_files = [\"test2/t2_breast_IRNAdam-epoch13.keras\", \"test2/t2_breast_VGGAdam-epoch10.keras\", 'test2/t2_breast_Xception_VGG_PreProcess-epoch12.keras', 'test2/t2_breast_DenseNet-epoch13.keras']\n",
    "k_saved_model_files = [\"test3/t3_breast_IRNAdam_NoPreProcess-epoch12.keras\", \"test2/t2_breast_VGGAdam-epoch10.keras\", 'test3/t3_breast_Xception_NoPreProcess-lrreduceP4-epoch02.keras', 'test3/t3_breast_ResNet50_NoPreProcess-epoch15.keras']\n",
    "p_saved_model_files = ['test3/t2_breast_vit_NoPreProcess_hdp0.2_adp0.2_lr1e-05-epoch7.pt']\n",
    "k_n_learners = len(k_saved_model_files)\n",
    "p_n_learners = len(p_saved_model_files)\n"
   ]
  },
  {
   "cell_type": "code",
   "execution_count": 20,
   "metadata": {},
   "outputs": [
    {
     "name": "stdout",
     "output_type": "stream",
     "text": [
      "Total images loaded: 7632\n",
      "Image shape: (224, 224, 3)\n",
      "Labels shape: (7632,)\n",
      "One-hot encoded labels shape: (7632, 2)\n",
      "Found 6488 images belonging to 2 classes.\n",
      "Found 1144 images belonging to 2 classes.\n",
      "\n",
      "\n",
      " X train size : (7632, 224, 224, 3) \n",
      " X test size : (7632, 224, 224, 3) \n",
      " Y train size : (7632, 2) \n",
      " Y test size : (7632, 2)\n"
     ]
    }
   ],
   "source": [
    "batch_size = 8\n",
    "images, labels, train_img_gen, test_img_gen, x_train, x_test, y_train, y_test, y_test_old = ensemble_data_loader(batch_size, tf= True)"
   ]
  },
  {
   "cell_type": "code",
   "execution_count": 21,
   "metadata": {},
   "outputs": [],
   "source": [
    "k_saved_model_files1 = [\"./final models/t2_breast_VGGAdam-epoch10.keras\", \"./final models/t3_breast_IRNAdam_NoPreProcess-epoch12.keras\", \"./final models/t3_breast_Xception_NoPreProcess-lrreduceP4-epoch02.keras\", \"./final models/t3_breast_ResNet50_NoPreProcess-epoch15.keras\"]\n",
    "k_n_learners1 = len(k_saved_model_files1)\n",
    "\n",
    "k_saved_model_files2 = [\"./final models/t2_breast_VGGAdam-epoch10.keras\", \"./final models/t3_breast_IRNAdam_NoPreProcess-epoch12.keras\", \"./final models/breast_Xception-epoch06_.keras\", \"./final models/t3_breast_ResNet50_NoPreProcess-epoch15.keras\"]\n",
    "k_n_learners2 = len(k_saved_model_files2)\n",
    "\n",
    "k_saved_model_files3 = [\"./final models/t2_breast_VGGAdam-epoch10.keras\", \"./final models/t3_breast_IRNAdam_NoPreProcess-epoch12.keras\", \"./final models/t3_breast_Xception_NoPreProcess-lrreduceP4-epoch02.keras\", \"./final models/t3_breast_ResNet50_NoPreProcess-epoch15.keras\", \"./final models/breast_Xception-epoch06_.keras\"]\n",
    "k_n_learners3 = len(k_saved_model_files3)\n",
    "\n",
    "k_saved_model_files4 = [\"./final models/breast_VGGAdam-epoch06.keras\", \"./final models/t3_breast_IRNAdam_NoPreProcess-epoch12.keras\", \"./final models/t3_breast_Xception_NoPreProcess-lrreduceP4-epoch02.keras\", \"./final models/t3_breast_ResNet50_NoPreProcess-epoch15.keras\", \"./final models/breast_Xception-epoch06_.keras\"]\n",
    "k_n_learners4 = len(k_saved_model_files4)\n",
    "\n",
    "p_saved_model_files = ['./final models/t2_breast_vit_NoPreProcess_hdp0.2_adp0.2_lr1e-05-epoch4.pt']\n",
    "p_n_learners = len(p_saved_model_files)"
   ]
  },
  {
   "cell_type": "code",
   "execution_count": 23,
   "metadata": {},
   "outputs": [
    {
     "name": "stdout",
     "output_type": "stream",
     "text": [
      "\n",
      "\n",
      " n train value : 7632 \n",
      " n test value : 7632\n"
     ]
    },
    {
     "name": "stderr",
     "output_type": "stream",
     "text": [
      "I0000 00:00:1740484845.599869   63444 gpu_device.cc:2022] Created device /job:localhost/replica:0/task:0/device:GPU:0 with 4778 MB memory:  -> device: 0, name: NVIDIA GeForce RTX 2060, pci bus id: 0000:01:00.0, compute capability: 7.5\n"
     ]
    },
    {
     "name": "stdout",
     "output_type": "stream",
     "text": [
      "model 0 : ./final models/breast_VGGAdam-epoch06.keras\n"
     ]
    },
    {
     "name": "stderr",
     "output_type": "stream",
     "text": [
      "2025-02-25 17:30:47.050472: W external/local_xla/xla/tsl/framework/cpu_allocator_impl.cc:83] Allocation of 1148829696 exceeds 10% of free system memory.\n",
      "2025-02-25 17:30:47.992699: W external/local_xla/xla/tsl/framework/cpu_allocator_impl.cc:83] Allocation of 1148829696 exceeds 10% of free system memory.\n",
      "2025-02-25 17:30:48.665469: W external/local_xla/xla/tsl/framework/cpu_allocator_impl.cc:83] Allocation of 1148829696 exceeds 10% of free system memory.\n",
      "WARNING: All log messages before absl::InitializeLog() is called are written to STDERR\n",
      "I0000 00:00:1740484849.663706   63777 service.cc:148] XLA service 0x7d8be000b5e0 initialized for platform CUDA (this does not guarantee that XLA will be used). Devices:\n",
      "I0000 00:00:1740484849.663765   63777 service.cc:156]   StreamExecutor device (0): NVIDIA GeForce RTX 2060, Compute Capability 7.5\n",
      "2025-02-25 17:30:49.680078: I tensorflow/compiler/mlir/tensorflow/utils/dump_mlir_util.cc:268] disabling MLIR crash reproducer, set env var `MLIR_CRASH_REPRODUCER_DIRECTORY` to enable.\n",
      "I0000 00:00:1740484849.763734   63777 cuda_dnn.cc:529] Loaded cuDNN version 90501\n",
      "2025-02-25 17:30:50.024711: I external/local_xla/xla/service/gpu/autotuning/conv_algorithm_picker.cc:557] Omitted potentially buggy algorithm eng14{k25=0} for conv (f32[8,64,224,224]{3,2,1,0}, u8[0]{0}) custom-call(f32[8,3,224,224]{3,2,1,0}, f32[64,3,3,3]{3,2,1,0}, f32[64]{0}), window={size=3x3 pad=1_1x1_1}, dim_labels=bf01_oi01->bf01, custom_call_target=\"__cudnn$convBiasActivationForward\", backend_config={\"cudnn_conv_backend_config\":{\"activation_mode\":\"kRelu\",\"conv_result_scale\":1,\"leakyrelu_alpha\":0,\"side_input_scale\":0},\"force_earliest_schedule\":false,\"operation_queue_id\":\"0\",\"wait_on_operation_queues\":[]}\n",
      "2025-02-25 17:30:50.159048: I external/local_xla/xla/service/gpu/autotuning/conv_algorithm_picker.cc:557] Omitted potentially buggy algorithm eng14{k25=0} for conv (f32[8,64,224,224]{3,2,1,0}, u8[0]{0}) custom-call(f32[8,64,224,224]{3,2,1,0}, f32[64,64,3,3]{3,2,1,0}, f32[64]{0}), window={size=3x3 pad=1_1x1_1}, dim_labels=bf01_oi01->bf01, custom_call_target=\"__cudnn$convBiasActivationForward\", backend_config={\"cudnn_conv_backend_config\":{\"activation_mode\":\"kRelu\",\"conv_result_scale\":1,\"leakyrelu_alpha\":0,\"side_input_scale\":0},\"force_earliest_schedule\":false,\"operation_queue_id\":\"0\",\"wait_on_operation_queues\":[]}\n",
      "2025-02-25 17:30:50.754488: I external/local_xla/xla/service/gpu/autotuning/conv_algorithm_picker.cc:557] Omitted potentially buggy algorithm eng14{k25=0} for conv (f32[8,128,112,112]{3,2,1,0}, u8[0]{0}) custom-call(f32[8,64,112,112]{3,2,1,0}, f32[128,64,3,3]{3,2,1,0}, f32[128]{0}), window={size=3x3 pad=1_1x1_1}, dim_labels=bf01_oi01->bf01, custom_call_target=\"__cudnn$convBiasActivationForward\", backend_config={\"cudnn_conv_backend_config\":{\"activation_mode\":\"kRelu\",\"conv_result_scale\":1,\"leakyrelu_alpha\":0,\"side_input_scale\":0},\"force_earliest_schedule\":false,\"operation_queue_id\":\"0\",\"wait_on_operation_queues\":[]}\n",
      "2025-02-25 17:30:51.027732: I external/local_xla/xla/service/gpu/autotuning/conv_algorithm_picker.cc:557] Omitted potentially buggy algorithm eng14{k25=0} for conv (f32[8,128,112,112]{3,2,1,0}, u8[0]{0}) custom-call(f32[8,128,112,112]{3,2,1,0}, f32[128,128,3,3]{3,2,1,0}, f32[128]{0}), window={size=3x3 pad=1_1x1_1}, dim_labels=bf01_oi01->bf01, custom_call_target=\"__cudnn$convBiasActivationForward\", backend_config={\"cudnn_conv_backend_config\":{\"activation_mode\":\"kRelu\",\"conv_result_scale\":1,\"leakyrelu_alpha\":0,\"side_input_scale\":0},\"force_earliest_schedule\":false,\"operation_queue_id\":\"0\",\"wait_on_operation_queues\":[]}\n",
      "2025-02-25 17:30:51.646852: I external/local_xla/xla/service/gpu/autotuning/conv_algorithm_picker.cc:557] Omitted potentially buggy algorithm eng14{k25=0} for conv (f32[8,256,56,56]{3,2,1,0}, u8[0]{0}) custom-call(f32[8,128,56,56]{3,2,1,0}, f32[256,128,3,3]{3,2,1,0}, f32[256]{0}), window={size=3x3 pad=1_1x1_1}, dim_labels=bf01_oi01->bf01, custom_call_target=\"__cudnn$convBiasActivationForward\", backend_config={\"cudnn_conv_backend_config\":{\"activation_mode\":\"kRelu\",\"conv_result_scale\":1,\"leakyrelu_alpha\":0,\"side_input_scale\":0},\"force_earliest_schedule\":false,\"operation_queue_id\":\"0\",\"wait_on_operation_queues\":[]}\n",
      "2025-02-25 17:30:51.873301: I external/local_xla/xla/service/gpu/autotuning/conv_algorithm_picker.cc:557] Omitted potentially buggy algorithm eng14{k25=0} for conv (f32[8,256,56,56]{3,2,1,0}, u8[0]{0}) custom-call(f32[8,256,56,56]{3,2,1,0}, f32[256,256,3,3]{3,2,1,0}, f32[256]{0}), window={size=3x3 pad=1_1x1_1}, dim_labels=bf01_oi01->bf01, custom_call_target=\"__cudnn$convBiasActivationForward\", backend_config={\"cudnn_conv_backend_config\":{\"activation_mode\":\"kRelu\",\"conv_result_scale\":1,\"leakyrelu_alpha\":0,\"side_input_scale\":0},\"force_earliest_schedule\":false,\"operation_queue_id\":\"0\",\"wait_on_operation_queues\":[]}\n",
      "2025-02-25 17:30:52.239246: I external/local_xla/xla/service/gpu/autotuning/conv_algorithm_picker.cc:557] Omitted potentially buggy algorithm eng14{k25=0} for conv (f32[8,512,28,28]{3,2,1,0}, u8[0]{0}) custom-call(f32[8,256,28,28]{3,2,1,0}, f32[512,256,3,3]{3,2,1,0}, f32[512]{0}), window={size=3x3 pad=1_1x1_1}, dim_labels=bf01_oi01->bf01, custom_call_target=\"__cudnn$convBiasActivationForward\", backend_config={\"cudnn_conv_backend_config\":{\"activation_mode\":\"kRelu\",\"conv_result_scale\":1,\"leakyrelu_alpha\":0,\"side_input_scale\":0},\"force_earliest_schedule\":false,\"operation_queue_id\":\"0\",\"wait_on_operation_queues\":[]}\n",
      "2025-02-25 17:30:52.459020: I external/local_xla/xla/service/gpu/autotuning/conv_algorithm_picker.cc:557] Omitted potentially buggy algorithm eng14{k25=0} for conv (f32[8,512,28,28]{3,2,1,0}, u8[0]{0}) custom-call(f32[8,512,28,28]{3,2,1,0}, f32[512,512,3,3]{3,2,1,0}, f32[512]{0}), window={size=3x3 pad=1_1x1_1}, dim_labels=bf01_oi01->bf01, custom_call_target=\"__cudnn$convBiasActivationForward\", backend_config={\"cudnn_conv_backend_config\":{\"activation_mode\":\"kRelu\",\"conv_result_scale\":1,\"leakyrelu_alpha\":0,\"side_input_scale\":0},\"force_earliest_schedule\":false,\"operation_queue_id\":\"0\",\"wait_on_operation_queues\":[]}\n",
      "2025-02-25 17:30:52.871326: I external/local_xla/xla/service/gpu/autotuning/conv_algorithm_picker.cc:557] Omitted potentially buggy algorithm eng14{k25=0} for conv (f32[8,512,14,14]{3,2,1,0}, u8[0]{0}) custom-call(f32[8,512,14,14]{3,2,1,0}, f32[512,512,3,3]{3,2,1,0}, f32[512]{0}), window={size=3x3 pad=1_1x1_1}, dim_labels=bf01_oi01->bf01, custom_call_target=\"__cudnn$convBiasActivationForward\", backend_config={\"cudnn_conv_backend_config\":{\"activation_mode\":\"kRelu\",\"conv_result_scale\":1,\"leakyrelu_alpha\":0,\"side_input_scale\":0},\"force_earliest_schedule\":false,\"operation_queue_id\":\"0\",\"wait_on_operation_queues\":[]}\n"
     ]
    },
    {
     "name": "stdout",
     "output_type": "stream",
     "text": [
      "\u001b[1m  4/954\u001b[0m \u001b[37m━━━━━━━━━━━━━━━━━━━━\u001b[0m \u001b[1m49s\u001b[0m 52ms/step - accuracy: 0.8203 - loss: 0.6006"
     ]
    },
    {
     "name": "stderr",
     "output_type": "stream",
     "text": [
      "I0000 00:00:1740484853.444458   63777 device_compiler.h:188] Compiled cluster using XLA!  This line is logged at most once for the lifetime of the process.\n"
     ]
    },
    {
     "name": "stdout",
     "output_type": "stream",
     "text": [
      "\u001b[1m954/954\u001b[0m \u001b[32m━━━━━━━━━━━━━━━━━━━━\u001b[0m\u001b[37m\u001b[0m \u001b[1m69s\u001b[0m 67ms/step - accuracy: 0.8285 - loss: 0.5223\n",
      "loss: 0.4838637411594391\n",
      "accuracy: 0.8434224128723145\n"
     ]
    },
    {
     "name": "stderr",
     "output_type": "stream",
     "text": [
      "2025-02-25 17:31:57.834677: W external/local_xla/xla/tsl/framework/cpu_allocator_impl.cc:83] Allocation of 1148829696 exceeds 10% of free system memory.\n",
      "2025-02-25 17:31:58.704806: W external/local_xla/xla/tsl/framework/cpu_allocator_impl.cc:83] Allocation of 1148829696 exceeds 10% of free system memory.\n"
     ]
    },
    {
     "name": "stdout",
     "output_type": "stream",
     "text": [
      "\u001b[1m954/954\u001b[0m \u001b[32m━━━━━━━━━━━━━━━━━━━━\u001b[0m\u001b[37m\u001b[0m \u001b[1m102s\u001b[0m 106ms/step - accuracy: 0.8285 - loss: 0.5223\n",
      "loss: 0.4838637411594391\n",
      "accuracy: 0.8434224128723145\n",
      "\u001b[1m954/954\u001b[0m \u001b[32m━━━━━━━━━━━━━━━━━━━━\u001b[0m\u001b[37m\u001b[0m \u001b[1m196s\u001b[0m 205ms/step\n",
      "model 1 : ./final models/t3_breast_IRNAdam_NoPreProcess-epoch12.keras\n",
      "\u001b[1m954/954\u001b[0m \u001b[32m━━━━━━━━━━━━━━━━━━━━\u001b[0m\u001b[37m\u001b[0m \u001b[1m132s\u001b[0m 123ms/step - accuracy: 0.9479 - loss: 0.2586\n",
      "loss: 0.14943473041057587\n",
      "accuracy: 0.9663259983062744\n",
      "\u001b[1m954/954\u001b[0m \u001b[32m━━━━━━━━━━━━━━━━━━━━\u001b[0m\u001b[37m\u001b[0m \u001b[1m106s\u001b[0m 111ms/step - accuracy: 0.9479 - loss: 0.2586\n",
      "loss: 0.14943473041057587\n",
      "accuracy: 0.9663259983062744\n",
      "\u001b[1m954/954\u001b[0m \u001b[32m━━━━━━━━━━━━━━━━━━━━\u001b[0m\u001b[37m\u001b[0m \u001b[1m163s\u001b[0m 162ms/step\n",
      "model 2 : ./final models/t3_breast_Xception_NoPreProcess-lrreduceP4-epoch02.keras\n"
     ]
    },
    {
     "name": "stderr",
     "output_type": "stream",
     "text": [
      "2025-02-25 17:44:00.958282: W external/local_xla/xla/tsl/framework/bfc_allocator.cc:306] Allocator (GPU_0_bfc) ran out of memory trying to allocate 2.17GiB with freed_by_count=0. The caller indicates that this is not a failure, but this may mean that there could be performance gains if more memory were available.\n",
      "2025-02-25 17:44:02.364030: W external/local_xla/xla/tsl/framework/bfc_allocator.cc:306] Allocator (GPU_0_bfc) ran out of memory trying to allocate 2.14GiB with freed_by_count=0. The caller indicates that this is not a failure, but this may mean that there could be performance gains if more memory were available.\n",
      "2025-02-25 17:44:04.134278: W external/local_xla/xla/tsl/framework/bfc_allocator.cc:306] Allocator (GPU_0_bfc) ran out of memory trying to allocate 4.36GiB with freed_by_count=0. The caller indicates that this is not a failure, but this may mean that there could be performance gains if more memory were available.\n",
      "2025-02-25 17:44:05.223876: W external/local_xla/xla/tsl/framework/bfc_allocator.cc:306] Allocator (GPU_0_bfc) ran out of memory trying to allocate 1.63GiB with freed_by_count=0. The caller indicates that this is not a failure, but this may mean that there could be performance gains if more memory were available.\n",
      "2025-02-25 17:44:05.748684: W external/local_xla/xla/tsl/framework/bfc_allocator.cc:306] Allocator (GPU_0_bfc) ran out of memory trying to allocate 6.80GiB with freed_by_count=0. The caller indicates that this is not a failure, but this may mean that there could be performance gains if more memory were available.\n"
     ]
    },
    {
     "name": "stdout",
     "output_type": "stream",
     "text": [
      "\u001b[1m954/954\u001b[0m \u001b[32m━━━━━━━━━━━━━━━━━━━━\u001b[0m\u001b[37m\u001b[0m \u001b[1m141s\u001b[0m 138ms/step - accuracy: 0.6010 - loss: 0.6773\n",
      "loss: 0.6347607970237732\n",
      "accuracy: 0.6310272812843323\n",
      "\u001b[1m954/954\u001b[0m \u001b[32m━━━━━━━━━━━━━━━━━━━━\u001b[0m\u001b[37m\u001b[0m \u001b[1m108s\u001b[0m 113ms/step - accuracy: 0.6010 - loss: 0.6773\n",
      "loss: 0.6347607970237732\n",
      "accuracy: 0.6310272812843323\n",
      "\u001b[1m954/954\u001b[0m \u001b[32m━━━━━━━━━━━━━━━━━━━━\u001b[0m\u001b[37m\u001b[0m \u001b[1m180s\u001b[0m 186ms/step\n",
      "model 3 : ./final models/t3_breast_ResNet50_NoPreProcess-epoch15.keras\n"
     ]
    },
    {
     "name": "stderr",
     "output_type": "stream",
     "text": [
      "2025-02-25 17:51:18.023739: I external/local_xla/xla/service/gpu/autotuning/conv_algorithm_picker.cc:557] Omitted potentially buggy algorithm eng14{k25=0} for conv (f32[8,64,56,56]{3,2,1,0}, u8[0]{0}) custom-call(f32[8,64,56,56]{3,2,1,0}, f32[64,64,3,3]{3,2,1,0}, f32[64]{0}), window={size=3x3 pad=1_1x1_1}, dim_labels=bf01_oi01->bf01, custom_call_target=\"__cudnn$convBiasActivationForward\", backend_config={\"cudnn_conv_backend_config\":{\"activation_mode\":\"kNone\",\"conv_result_scale\":1,\"leakyrelu_alpha\":0,\"side_input_scale\":0},\"force_earliest_schedule\":false,\"operation_queue_id\":\"0\",\"wait_on_operation_queues\":[]}\n",
      "2025-02-25 17:51:18.259021: I external/local_xla/xla/service/gpu/autotuning/conv_algorithm_picker.cc:557] Omitted potentially buggy algorithm eng14{k25=0} for conv (f32[8,128,28,28]{3,2,1,0}, u8[0]{0}) custom-call(f32[8,128,28,28]{3,2,1,0}, f32[128,128,3,3]{3,2,1,0}, f32[128]{0}), window={size=3x3 pad=1_1x1_1}, dim_labels=bf01_oi01->bf01, custom_call_target=\"__cudnn$convBiasActivationForward\", backend_config={\"cudnn_conv_backend_config\":{\"activation_mode\":\"kNone\",\"conv_result_scale\":1,\"leakyrelu_alpha\":0,\"side_input_scale\":0},\"force_earliest_schedule\":false,\"operation_queue_id\":\"0\",\"wait_on_operation_queues\":[]}\n",
      "2025-02-25 17:51:19.640998: I external/local_xla/xla/service/gpu/autotuning/conv_algorithm_picker.cc:557] Omitted potentially buggy algorithm eng14{k25=0} for conv (f32[8,256,14,14]{3,2,1,0}, u8[0]{0}) custom-call(f32[8,256,14,14]{3,2,1,0}, f32[256,256,3,3]{3,2,1,0}, f32[256]{0}), window={size=3x3 pad=1_1x1_1}, dim_labels=bf01_oi01->bf01, custom_call_target=\"__cudnn$convBiasActivationForward\", backend_config={\"cudnn_conv_backend_config\":{\"activation_mode\":\"kNone\",\"conv_result_scale\":1,\"leakyrelu_alpha\":0,\"side_input_scale\":0},\"force_earliest_schedule\":false,\"operation_queue_id\":\"0\",\"wait_on_operation_queues\":[]}\n",
      "2025-02-25 17:51:20.968617: I external/local_xla/xla/service/gpu/autotuning/conv_algorithm_picker.cc:557] Omitted potentially buggy algorithm eng14{k25=0} for conv (f32[8,512,7,7]{3,2,1,0}, u8[0]{0}) custom-call(f32[8,512,7,7]{3,2,1,0}, f32[512,512,3,3]{3,2,1,0}, f32[512]{0}), window={size=3x3 pad=1_1x1_1}, dim_labels=bf01_oi01->bf01, custom_call_target=\"__cudnn$convBiasActivationForward\", backend_config={\"cudnn_conv_backend_config\":{\"activation_mode\":\"kNone\",\"conv_result_scale\":1,\"leakyrelu_alpha\":0,\"side_input_scale\":0},\"force_earliest_schedule\":false,\"operation_queue_id\":\"0\",\"wait_on_operation_queues\":[]}\n",
      "2025-02-25 17:51:21.032151: W external/local_xla/xla/tsl/framework/bfc_allocator.cc:306] Allocator (GPU_0_bfc) ran out of memory trying to allocate 1.11GiB with freed_by_count=0. The caller indicates that this is not a failure, but this may mean that there could be performance gains if more memory were available.\n"
     ]
    },
    {
     "name": "stdout",
     "output_type": "stream",
     "text": [
      "\u001b[1m954/954\u001b[0m \u001b[32m━━━━━━━━━━━━━━━━━━━━\u001b[0m\u001b[37m\u001b[0m \u001b[1m106s\u001b[0m 103ms/step - accuracy: 0.9547 - loss: 0.2214\n",
      "loss: 0.20566315948963165\n",
      "accuracy: 0.9585953950881958\n",
      "\u001b[1m954/954\u001b[0m \u001b[32m━━━━━━━━━━━━━━━━━━━━\u001b[0m\u001b[37m\u001b[0m \u001b[1m80s\u001b[0m 83ms/step - accuracy: 0.9547 - loss: 0.2214\n",
      "loss: 0.20566315948963165\n",
      "accuracy: 0.9585953950881958\n",
      "\u001b[1m954/954\u001b[0m \u001b[32m━━━━━━━━━━━━━━━━━━━━\u001b[0m\u001b[37m\u001b[0m \u001b[1m131s\u001b[0m 134ms/step\n",
      "model 4 : ./final models/breast_Xception-epoch06_.keras\n",
      "\u001b[1m954/954\u001b[0m \u001b[32m━━━━━━━━━━━━━━━━━━━━\u001b[0m\u001b[37m\u001b[0m \u001b[1m184s\u001b[0m 192ms/step - accuracy: 0.9654 - loss: 0.1224\n",
      "loss: 0.10213527083396912\n",
      "accuracy: 0.9697327017784119\n",
      "\u001b[1m954/954\u001b[0m \u001b[32m━━━━━━━━━━━━━━━━━━━━\u001b[0m\u001b[37m\u001b[0m \u001b[1m155s\u001b[0m 162ms/step - accuracy: 0.9654 - loss: 0.1224\n",
      "loss: 0.10213527083396912\n",
      "accuracy: 0.9697327017784119\n",
      "\u001b[1m954/954\u001b[0m \u001b[32m━━━━━━━━━━━━━━━━━━━━\u001b[0m\u001b[37m\u001b[0m \u001b[1m303s\u001b[0m 317ms/step\n",
      "Data saved to ./test4/tf_v3_ensemble.pkl\n",
      "[<Functional name=functional_1, built=True>, <Functional name=functional, built=True>, <Functional name=functional, built=True>, <Functional name=functional, built=True>, <Functional name=functional_2, built=True>] ['k', 'k', 'k', 'k', 'k'] [0.8434224128723145, 0.9663259983062744, 0.6310272812843323, 0.9585953950881958, 0.9697327017784119] [0.8434224128723145, 0.9663259983062744, 0.6310272812843323, 0.9585953950881958, 0.9697327017784119] [array([0, 0, 1, ..., 1, 1, 1]), array([0, 0, 0, ..., 1, 1, 1]), array([0, 0, 0, ..., 0, 1, 1]), array([0, 0, 0, ..., 1, 1, 1]), array([0, 0, 0, ..., 1, 1, 1])]\n"
     ]
    }
   ],
   "source": [
    "\n",
    "\n",
    "k_models, k_model_type, k_train_accuracy_records, k_test_accuracy_records, k_preds = ensemble_tf_models(k_n_learners4, k_saved_model_files4, x_train, x_test, y_train, y_test, batch_size, \"./test4/tf_v3_ensemble.pkl\")\n",
    "print(k_models, k_model_type, k_train_accuracy_records, k_test_accuracy_records, k_preds)"
   ]
  },
  {
   "cell_type": "code",
   "execution_count": null,
   "metadata": {},
   "outputs": [],
   "source": [
    "\n",
    "\n",
    "k_models, k_model_type, k_train_accuracy_records, k_test_accuracy_records, k_preds = ensemble_tf_models(k_n_learners2, k_saved_model_files2, x_train, x_test, y_train, y_test, batch_size, \"./test4/tf_v2_ensemble.pkl\")\n",
    "print(k_models, k_model_type, k_train_accuracy_records, k_test_accuracy_records, k_preds)"
   ]
  },
  {
   "cell_type": "code",
   "execution_count": null,
   "metadata": {},
   "outputs": [],
   "source": [
    "\n",
    "\n",
    "p_models, p_model_type, p_train_accuracy_records, p_test_accuracy_records, p_preds = ensemble_torch_models(p_n_learners, p_saved_model_files, x_train, x_test, y_train, y_test, batch_size, \"./test4/pt_v1_ensemble.pkl\")\n",
    "print(p_models, p_model_type, p_train_accuracy_records, p_test_accuracy_records, p_preds)"
   ]
  },
  {
   "cell_type": "code",
   "execution_count": 23,
   "metadata": {},
   "outputs": [
    {
     "name": "stderr",
     "output_type": "stream",
     "text": [
      "I0000 00:00:1740487365.211685   68481 gpu_device.cc:2022] Created device /job:localhost/replica:0/task:0/device:GPU:0 with 4778 MB memory:  -> device: 0, name: NVIDIA GeForce RTX 2060, pci bus id: 0000:01:00.0, compute capability: 7.5\n"
     ]
    },
    {
     "name": "stdout",
     "output_type": "stream",
     "text": [
      "Data loaded successfully\n"
     ]
    }
   ],
   "source": [
    "k_models, k_model_type, k_train_accuracy_records, k_test_accuracy_records, k_preds = retrieve_details(\"./test4/tf_v3_ensemble.pkl\")\n",
    "#print(k_models, k_model_type, k_train_accuracy_records, k_test_accuracy_records, k_preds)"
   ]
  },
  {
   "cell_type": "code",
   "execution_count": 23,
   "metadata": {},
   "outputs": [
    {
     "name": "stdout",
     "output_type": "stream",
     "text": [
      "Data loaded successfully\n"
     ]
    }
   ],
   "source": [
    "p_models, p_model_type, p_train_accuracy_records, p_test_accuracy_records, p_preds = retrieve_details(\"./test4/pt_v1_ensemble.pkl\")\n",
    "#print(p_models, p_model_type, p_train_accuracy_records, p_test_accuracy_records, p_preds)"
   ]
  },
  {
   "cell_type": "code",
   "execution_count": 24,
   "metadata": {},
   "outputs": [],
   "source": [
    "votefuns = [weighted_vote,  majority_vote]\n",
    "n_learners = k_n_learners1 + p_n_learners\n",
    "saved_model_files = k_saved_model_files2 + p_saved_model_files                      #######################\n",
    "model_types = k_model_type + p_model_type\n",
    "train_accuracy_records = k_train_accuracy_records + p_train_accuracy_records\n",
    "test_accuracy_records = k_test_accuracy_records + p_test_accuracy_records\n",
    "predictions = k_preds + p_preds\n",
    "\n",
    "predictions_array = np.stack(predictions, axis=1)\n",
    "\n",
    "filename = \"./test4/Ensemble_v2.txt\"\n"
   ]
  },
  {
   "cell_type": "code",
   "execution_count": 24,
   "metadata": {},
   "outputs": [],
   "source": [
    "votefuns = [weighted_vote,  majority_vote]\n",
    "n_learners = k_n_learners3\n",
    "saved_model_files = k_saved_model_files3               #######################\n",
    "model_types = k_model_type \n",
    "train_accuracy_records = k_train_accuracy_records \n",
    "test_accuracy_records = k_test_accuracy_records \n",
    "predictions = k_preds \n",
    "\n",
    "predictions_array = np.stack(predictions, axis=1)\n",
    "\n",
    "filename = \"./test4/Ensemble_v3.txt\"\n"
   ]
  },
  {
   "cell_type": "code",
   "execution_count": 25,
   "metadata": {},
   "outputs": [
    {
     "data": {
      "text/plain": [
       "['./final models/t2_breast_VGGAdam-epoch10.keras',\n",
       " './final models/t3_breast_IRNAdam_NoPreProcess-epoch12.keras',\n",
       " './final models/t3_breast_Xception_NoPreProcess-lrreduceP4-epoch02.keras',\n",
       " './final models/t3_breast_ResNet50_NoPreProcess-epoch15.keras',\n",
       " './final models/breast_Xception-epoch06_.keras']"
      ]
     },
     "execution_count": 25,
     "metadata": {},
     "output_type": "execute_result"
    }
   ],
   "source": [
    "saved_model_files"
   ]
  },
  {
   "cell_type": "code",
   "execution_count": 26,
   "metadata": {},
   "outputs": [
    {
     "data": {
      "text/plain": [
       "array([[0, 0, 0, 0, 0],\n",
       "       [0, 0, 0, 0, 0],\n",
       "       [1, 0, 0, 0, 0],\n",
       "       ...,\n",
       "       [1, 1, 0, 1, 1],\n",
       "       [1, 1, 1, 1, 1],\n",
       "       [1, 1, 1, 1, 1]])"
      ]
     },
     "execution_count": 26,
     "metadata": {},
     "output_type": "execute_result"
    }
   ],
   "source": [
    "predictions_array"
   ]
  },
  {
   "cell_type": "code",
   "execution_count": 27,
   "metadata": {},
   "outputs": [
    {
     "data": {
      "text/plain": [
       "(7632, 5)"
      ]
     },
     "execution_count": 27,
     "metadata": {},
     "output_type": "execute_result"
    }
   ],
   "source": [
    "predictions_array.shape"
   ]
  },
  {
   "cell_type": "code",
   "execution_count": 28,
   "metadata": {},
   "outputs": [
    {
     "name": "stdout",
     "output_type": "stream",
     "text": [
      "./test4/Ensemble_v3.txt\n",
      "(7632,)\n",
      "votefun is <function weighted_vote at 0x7aeccad38040>\n",
      "ensemble test accuracy: 0.974188\n",
      "learner 0 (model_file = ./final models/t2_breast_VGGAdam-epoch10.keras): 0.843422\n",
      "learner 1 (model_file = ./final models/t3_breast_IRNAdam_NoPreProcess-epoch12.keras): 0.966326\n",
      "learner 2 (model_file = ./final models/t3_breast_Xception_NoPreProcess-lrreduceP4-epoch02.keras): 0.631027\n",
      "learner 3 (model_file = ./final models/t3_breast_ResNet50_NoPreProcess-epoch15.keras): 0.958595\n",
      "learner 4 (model_file = ./final models/breast_Xception-epoch06_.keras): 0.969733\n",
      "(7632,)\n",
      "votefun is <function majority_vote at 0x7aeccb848040>\n",
      "ensemble test accuracy: 0.974188\n",
      "learner 0 (model_file = ./final models/t2_breast_VGGAdam-epoch10.keras): 0.843422\n",
      "learner 1 (model_file = ./final models/t3_breast_IRNAdam_NoPreProcess-epoch12.keras): 0.966326\n",
      "learner 2 (model_file = ./final models/t3_breast_Xception_NoPreProcess-lrreduceP4-epoch02.keras): 0.631027\n",
      "learner 3 (model_file = ./final models/t3_breast_ResNet50_NoPreProcess-epoch15.keras): 0.958595\n",
      "learner 4 (model_file = ./final models/breast_Xception-epoch06_.keras): 0.969733\n"
     ]
    }
   ],
   "source": [
    "y_pred = ensemble(n_learners, saved_model_files, model_types, predictions_array, votefuns, x_train, x_test, y_test_old, train_accuracy_records, test_accuracy_records, filename, file_prefix= \"\")"
   ]
  },
  {
   "cell_type": "markdown",
   "metadata": {},
   "source": [
    "# analysis"
   ]
  },
  {
   "cell_type": "code",
   "execution_count": 24,
   "metadata": {},
   "outputs": [],
   "source": [
    "def plot_confusion_matrix(cm, classes, normalize=True, title='Ensemble Confusion matrix', cmap=plt.cm.Blues):\n",
    "    if normalize:\n",
    "        cm = cm.astype('float') / cm.sum(axis=1)[:, np.newaxis]\n",
    "        print(\"Normalized confusion matrix\")\n",
    "    else:\n",
    "        print('Confusion matrix, without normalization')\n",
    "\n",
    "    print(cm)\n",
    "\n",
    "    plt.figure(figsize=(7,7))\n",
    "    plt.imshow(cm, interpolation='nearest', cmap=cmap)\n",
    "    plt.title(title)\n",
    "    plt.colorbar()\n",
    "    tick_marks = np.arange(len(classes))\n",
    "    plt.xticks(tick_marks, classes, rotation=45)\n",
    "    plt.yticks(tick_marks, classes)\n",
    "\n",
    "    fmt = '.3f' if normalize else 'd'\n",
    "    thresh = cm.max() / 2.\n",
    "    for i, j in itertools.product(range(cm.shape[0]), range(cm.shape[1])):\n",
    "        plt.text(j, i, format(cm[i, j], fmt),\n",
    "                 horizontalalignment=\"center\",\n",
    "                 color=\"white\" if cm[i, j] > thresh else \"black\")\n",
    "    plt.ylabel('True label')\n",
    "    plt.xlabel('Predicted label')\n",
    "    plt.tight_layout()\n",
    "\n",
    "\n",
    "\n",
    "\n"
   ]
  },
  {
   "cell_type": "code",
   "execution_count": 26,
   "metadata": {},
   "outputs": [],
   "source": [
    "def ensemble_testing(model_type, predictions, votefuns, train_accuracy_records, test_accuracy_records):\n",
    "\n",
    "    for votefun in votefuns:\n",
    "        final_predict = votefun(predictions, model_type, train_accuracy_records)\n",
    "        final_predict = final_predict.reshape(-1)\n",
    "        print(final_predict.shape)\n",
    "\n",
    "    return final_predict"
   ]
  },
  {
   "cell_type": "code",
   "execution_count": 27,
   "metadata": {},
   "outputs": [
    {
     "name": "stdout",
     "output_type": "stream",
     "text": [
      "(7632,)\n"
     ]
    }
   ],
   "source": [
    "votefuns = [weighted_vote]\n",
    "model_types = k_model_type + p_model_type\n",
    "train_accuracy_records = k_train_accuracy_records + p_train_accuracy_records\n",
    "test_accuracy_records = k_test_accuracy_records + p_test_accuracy_records\n",
    "predictions = k_preds + p_preds\n",
    "\n",
    "predictions_array = np.stack(predictions, axis=1)\n",
    "\n",
    "y_pred = ensemble_testing(model_types, predictions_array, votefuns, train_accuracy_records, test_accuracy_records)\n"
   ]
  },
  {
   "cell_type": "code",
   "execution_count": 28,
   "metadata": {},
   "outputs": [
    {
     "data": {
      "text/plain": [
       "array([0, 0, 0, ..., 1, 1, 1])"
      ]
     },
     "execution_count": 28,
     "metadata": {},
     "output_type": "execute_result"
    }
   ],
   "source": [
    "y_pred"
   ]
  },
  {
   "cell_type": "code",
   "execution_count": 37,
   "metadata": {},
   "outputs": [
    {
     "data": {
      "text/plain": [
       "array([0, 0, 0, ..., 1, 1, 1])"
      ]
     },
     "execution_count": 37,
     "metadata": {},
     "output_type": "execute_result"
    }
   ],
   "source": [
    "y_test_prediction = np.argmax(y_test, axis= 1)\n",
    "y_test_prediction"
   ]
  },
  {
   "cell_type": "code",
   "execution_count": 39,
   "metadata": {},
   "outputs": [
    {
     "name": "stdout",
     "output_type": "stream",
     "text": [
      "Normalized confusion matrix\n",
      "[[0.94365079 0.05634921]\n",
      " [0.00371674 0.99628326]]\n"
     ]
    },
    {
     "data": {
      "image/png": "[encoded data removed]",
      "text/plain": [
       "<Figure size 700x700 with 2 Axes>"
      ]
     },
     "metadata": {},
     "output_type": "display_data"
    }
   ],
   "source": [
    "cm = confusion_matrix(y_test_prediction, y_pred)\n",
    "cm_plot_labels = ['Benign', 'Malignant']\n",
    "plot_confusion_matrix(cm, cm_plot_labels)"
   ]
  },
  {
   "cell_type": "code",
   "execution_count": 43,
   "metadata": {},
   "outputs": [
    {
     "name": "stdout",
     "output_type": "stream",
     "text": [
      "              precision    recall  f1-score   support\n",
      "\n",
      "           0       0.99      0.94      0.97      2520\n",
      "           1       0.97      1.00      0.98      5112\n",
      "\n",
      "    accuracy                           0.98      7632\n",
      "   macro avg       0.98      0.97      0.98      7632\n",
      "weighted avg       0.98      0.98      0.98      7632\n",
      "\n"
     ]
    }
   ],
   "source": [
    "print(classification_report(y_test_prediction, y_pred))"
   ]
  },
  {
   "cell_type": "code",
   "execution_count": 44,
   "metadata": {},
   "outputs": [
    {
     "name": "stdout",
     "output_type": "stream",
     "text": [
      "(7632,)\n"
     ]
    }
   ],
   "source": [
    "votefuns = [majority_vote]\n",
    "model_types = k_model_type + p_model_type\n",
    "train_accuracy_records = k_train_accuracy_records + p_train_accuracy_records\n",
    "test_accuracy_records = k_test_accuracy_records + p_test_accuracy_records\n",
    "predictions = k_preds + p_preds\n",
    "\n",
    "predictions_array = np.stack(predictions, axis=1)\n",
    "\n",
    "y_pred = ensemble_testing(model_types, predictions_array, votefuns, train_accuracy_records, test_accuracy_records)\n"
   ]
  },
  {
   "cell_type": "code",
   "execution_count": 45,
   "metadata": {},
   "outputs": [
    {
     "name": "stdout",
     "output_type": "stream",
     "text": [
      "Normalized confusion matrix\n",
      "[[0.94365079 0.05634921]\n",
      " [0.00371674 0.99628326]]\n"
     ]
    },
    {
     "data": {
      "image/png": "[encoded data removed]",
      "text/plain": [
       "<Figure size 700x700 with 2 Axes>"
      ]
     },
     "metadata": {},
     "output_type": "display_data"
    }
   ],
   "source": [
    "cm = confusion_matrix(y_test_prediction, y_pred)\n",
    "cm_plot_labels = ['Benign', 'Malignant']\n",
    "plot_confusion_matrix(cm, cm_plot_labels)"
   ]
  },
  {
   "cell_type": "code",
   "execution_count": 46,
   "metadata": {},
   "outputs": [
    {
     "name": "stdout",
     "output_type": "stream",
     "text": [
      "              precision    recall  f1-score   support\n",
      "\n",
      "           0       0.99      0.94      0.97      2520\n",
      "           1       0.97      1.00      0.98      5112\n",
      "\n",
      "    accuracy                           0.98      7632\n",
      "   macro avg       0.98      0.97      0.98      7632\n",
      "weighted avg       0.98      0.98      0.98      7632\n",
      "\n"
     ]
    }
   ],
   "source": [
    "print(classification_report(y_test_prediction, y_pred))"
   ]
  },
  {
   "cell_type": "code",
   "execution_count": null,
   "metadata": {},
   "outputs": [],
   "source": []
  }
 ],
 "metadata": {
  "kernelspec": {
   "display_name": ".venv_ensemble",
   "language": "python",
   "name": "python3"
  },
  "language_info": {
   "codemirror_mode": {
    "name": "ipython",
    "version": 3
   },
   "file_extension": ".py",
   "mimetype": "text/x-python",
   "name": "python",
   "nbconvert_exporter": "python",
   "pygments_lexer": "ipython3",
   "version": "3.10.12"
  }
 },
 "nbformat": 4,
 "nbformat_minor": 2
}
